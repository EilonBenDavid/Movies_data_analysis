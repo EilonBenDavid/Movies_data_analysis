{
 "cells": [
  {
   "cell_type": "code",
   "execution_count": 7,
   "metadata": {},
   "outputs": [],
   "source": [
    "import pandas as pd\n",
    "import numpy as np\n",
    "import matplotlib.pyplot as plt\n",
    "import seaborn as sns\n",
    "import math"
   ]
  },
  {
   "cell_type": "code",
   "execution_count": 8,
   "metadata": {},
   "outputs": [
    {
     "data": {
      "text/html": [
       "<div>\n",
       "<style scoped>\n",
       "    .dataframe tbody tr th:only-of-type {\n",
       "        vertical-align: middle;\n",
       "    }\n",
       "\n",
       "    .dataframe tbody tr th {\n",
       "        vertical-align: top;\n",
       "    }\n",
       "\n",
       "    .dataframe thead th {\n",
       "        text-align: right;\n",
       "    }\n",
       "</style>\n",
       "<table border=\"1\" class=\"dataframe\">\n",
       "  <thead>\n",
       "    <tr style=\"text-align: right;\">\n",
       "      <th></th>\n",
       "      <th>Title</th>\n",
       "      <th>Year</th>\n",
       "      <th>Age</th>\n",
       "      <th>IMDb</th>\n",
       "      <th>Rotten Tomatoes</th>\n",
       "      <th>Netflix</th>\n",
       "      <th>Hulu</th>\n",
       "      <th>Prime Video</th>\n",
       "      <th>Disney+</th>\n",
       "      <th>Type</th>\n",
       "      <th>Directors</th>\n",
       "      <th>Genres</th>\n",
       "      <th>Country</th>\n",
       "      <th>Language</th>\n",
       "      <th>Runtime</th>\n",
       "    </tr>\n",
       "    <tr>\n",
       "      <th>ID</th>\n",
       "      <th></th>\n",
       "      <th></th>\n",
       "      <th></th>\n",
       "      <th></th>\n",
       "      <th></th>\n",
       "      <th></th>\n",
       "      <th></th>\n",
       "      <th></th>\n",
       "      <th></th>\n",
       "      <th></th>\n",
       "      <th></th>\n",
       "      <th></th>\n",
       "      <th></th>\n",
       "      <th></th>\n",
       "      <th></th>\n",
       "    </tr>\n",
       "  </thead>\n",
       "  <tbody>\n",
       "    <tr>\n",
       "      <th>1</th>\n",
       "      <td>Inception</td>\n",
       "      <td>2010</td>\n",
       "      <td>13+</td>\n",
       "      <td>8.8</td>\n",
       "      <td>87%</td>\n",
       "      <td>1</td>\n",
       "      <td>0</td>\n",
       "      <td>0</td>\n",
       "      <td>0</td>\n",
       "      <td>0</td>\n",
       "      <td>Christopher Nolan</td>\n",
       "      <td>Action,Adventure,Sci-Fi,Thriller</td>\n",
       "      <td>United States,United Kingdom</td>\n",
       "      <td>English,Japanese,French</td>\n",
       "      <td>148.0</td>\n",
       "    </tr>\n",
       "    <tr>\n",
       "      <th>2</th>\n",
       "      <td>The Matrix</td>\n",
       "      <td>1999</td>\n",
       "      <td>18+</td>\n",
       "      <td>8.7</td>\n",
       "      <td>87%</td>\n",
       "      <td>1</td>\n",
       "      <td>0</td>\n",
       "      <td>0</td>\n",
       "      <td>0</td>\n",
       "      <td>0</td>\n",
       "      <td>Lana Wachowski,Lilly Wachowski</td>\n",
       "      <td>Action,Sci-Fi</td>\n",
       "      <td>United States</td>\n",
       "      <td>English</td>\n",
       "      <td>136.0</td>\n",
       "    </tr>\n",
       "    <tr>\n",
       "      <th>3</th>\n",
       "      <td>Avengers: Infinity War</td>\n",
       "      <td>2018</td>\n",
       "      <td>13+</td>\n",
       "      <td>8.5</td>\n",
       "      <td>84%</td>\n",
       "      <td>1</td>\n",
       "      <td>0</td>\n",
       "      <td>0</td>\n",
       "      <td>0</td>\n",
       "      <td>0</td>\n",
       "      <td>Anthony Russo,Joe Russo</td>\n",
       "      <td>Action,Adventure,Sci-Fi</td>\n",
       "      <td>United States</td>\n",
       "      <td>English</td>\n",
       "      <td>149.0</td>\n",
       "    </tr>\n",
       "    <tr>\n",
       "      <th>4</th>\n",
       "      <td>Back to the Future</td>\n",
       "      <td>1985</td>\n",
       "      <td>7+</td>\n",
       "      <td>8.5</td>\n",
       "      <td>96%</td>\n",
       "      <td>1</td>\n",
       "      <td>0</td>\n",
       "      <td>0</td>\n",
       "      <td>0</td>\n",
       "      <td>0</td>\n",
       "      <td>Robert Zemeckis</td>\n",
       "      <td>Adventure,Comedy,Sci-Fi</td>\n",
       "      <td>United States</td>\n",
       "      <td>English</td>\n",
       "      <td>116.0</td>\n",
       "    </tr>\n",
       "    <tr>\n",
       "      <th>5</th>\n",
       "      <td>The Good, the Bad and the Ugly</td>\n",
       "      <td>1966</td>\n",
       "      <td>18+</td>\n",
       "      <td>8.8</td>\n",
       "      <td>97%</td>\n",
       "      <td>1</td>\n",
       "      <td>0</td>\n",
       "      <td>1</td>\n",
       "      <td>0</td>\n",
       "      <td>0</td>\n",
       "      <td>Sergio Leone</td>\n",
       "      <td>Western</td>\n",
       "      <td>Italy,Spain,West Germany</td>\n",
       "      <td>Italian</td>\n",
       "      <td>161.0</td>\n",
       "    </tr>\n",
       "    <tr>\n",
       "      <th>6</th>\n",
       "      <td>Spider-Man: Into the Spider-Verse</td>\n",
       "      <td>2018</td>\n",
       "      <td>7+</td>\n",
       "      <td>8.4</td>\n",
       "      <td>97%</td>\n",
       "      <td>1</td>\n",
       "      <td>0</td>\n",
       "      <td>0</td>\n",
       "      <td>0</td>\n",
       "      <td>0</td>\n",
       "      <td>Bob Persichetti,Peter Ramsey,Rodney Rothman</td>\n",
       "      <td>Animation,Action,Adventure,Family,Sci-Fi</td>\n",
       "      <td>United States</td>\n",
       "      <td>English,Spanish</td>\n",
       "      <td>117.0</td>\n",
       "    </tr>\n",
       "    <tr>\n",
       "      <th>7</th>\n",
       "      <td>The Pianist</td>\n",
       "      <td>2002</td>\n",
       "      <td>18+</td>\n",
       "      <td>8.5</td>\n",
       "      <td>95%</td>\n",
       "      <td>1</td>\n",
       "      <td>0</td>\n",
       "      <td>1</td>\n",
       "      <td>0</td>\n",
       "      <td>0</td>\n",
       "      <td>Roman Polanski</td>\n",
       "      <td>Biography,Drama,Music,War</td>\n",
       "      <td>United Kingdom,France,Poland,Germany</td>\n",
       "      <td>English,German,Russian</td>\n",
       "      <td>150.0</td>\n",
       "    </tr>\n",
       "    <tr>\n",
       "      <th>8</th>\n",
       "      <td>Django Unchained</td>\n",
       "      <td>2012</td>\n",
       "      <td>18+</td>\n",
       "      <td>8.4</td>\n",
       "      <td>87%</td>\n",
       "      <td>1</td>\n",
       "      <td>0</td>\n",
       "      <td>0</td>\n",
       "      <td>0</td>\n",
       "      <td>0</td>\n",
       "      <td>Quentin Tarantino</td>\n",
       "      <td>Drama,Western</td>\n",
       "      <td>United States</td>\n",
       "      <td>English,German,French,Italian</td>\n",
       "      <td>165.0</td>\n",
       "    </tr>\n",
       "    <tr>\n",
       "      <th>9</th>\n",
       "      <td>Raiders of the Lost Ark</td>\n",
       "      <td>1981</td>\n",
       "      <td>7+</td>\n",
       "      <td>8.4</td>\n",
       "      <td>95%</td>\n",
       "      <td>1</td>\n",
       "      <td>0</td>\n",
       "      <td>0</td>\n",
       "      <td>0</td>\n",
       "      <td>0</td>\n",
       "      <td>Steven Spielberg</td>\n",
       "      <td>Action,Adventure</td>\n",
       "      <td>United States</td>\n",
       "      <td>English,German,Hebrew,Spanish,Arabic,Nepali</td>\n",
       "      <td>115.0</td>\n",
       "    </tr>\n",
       "    <tr>\n",
       "      <th>10</th>\n",
       "      <td>Inglourious Basterds</td>\n",
       "      <td>2009</td>\n",
       "      <td>18+</td>\n",
       "      <td>8.3</td>\n",
       "      <td>89%</td>\n",
       "      <td>1</td>\n",
       "      <td>0</td>\n",
       "      <td>0</td>\n",
       "      <td>0</td>\n",
       "      <td>0</td>\n",
       "      <td>Quentin Tarantino</td>\n",
       "      <td>Adventure,Drama,War</td>\n",
       "      <td>Germany,United States</td>\n",
       "      <td>English,German,French,Italian</td>\n",
       "      <td>153.0</td>\n",
       "    </tr>\n",
       "  </tbody>\n",
       "</table>\n",
       "</div>"
      ],
      "text/plain": [
       "                                Title  Year  Age  IMDb Rotten Tomatoes  \\\n",
       "ID                                                                       \n",
       "1                           Inception  2010  13+   8.8             87%   \n",
       "2                          The Matrix  1999  18+   8.7             87%   \n",
       "3              Avengers: Infinity War  2018  13+   8.5             84%   \n",
       "4                  Back to the Future  1985   7+   8.5             96%   \n",
       "5      The Good, the Bad and the Ugly  1966  18+   8.8             97%   \n",
       "6   Spider-Man: Into the Spider-Verse  2018   7+   8.4             97%   \n",
       "7                         The Pianist  2002  18+   8.5             95%   \n",
       "8                    Django Unchained  2012  18+   8.4             87%   \n",
       "9             Raiders of the Lost Ark  1981   7+   8.4             95%   \n",
       "10               Inglourious Basterds  2009  18+   8.3             89%   \n",
       "\n",
       "    Netflix  Hulu  Prime Video  Disney+  Type  \\\n",
       "ID                                              \n",
       "1         1     0            0        0     0   \n",
       "2         1     0            0        0     0   \n",
       "3         1     0            0        0     0   \n",
       "4         1     0            0        0     0   \n",
       "5         1     0            1        0     0   \n",
       "6         1     0            0        0     0   \n",
       "7         1     0            1        0     0   \n",
       "8         1     0            0        0     0   \n",
       "9         1     0            0        0     0   \n",
       "10        1     0            0        0     0   \n",
       "\n",
       "                                      Directors  \\\n",
       "ID                                                \n",
       "1                             Christopher Nolan   \n",
       "2                Lana Wachowski,Lilly Wachowski   \n",
       "3                       Anthony Russo,Joe Russo   \n",
       "4                               Robert Zemeckis   \n",
       "5                                  Sergio Leone   \n",
       "6   Bob Persichetti,Peter Ramsey,Rodney Rothman   \n",
       "7                                Roman Polanski   \n",
       "8                             Quentin Tarantino   \n",
       "9                              Steven Spielberg   \n",
       "10                            Quentin Tarantino   \n",
       "\n",
       "                                      Genres  \\\n",
       "ID                                             \n",
       "1           Action,Adventure,Sci-Fi,Thriller   \n",
       "2                              Action,Sci-Fi   \n",
       "3                    Action,Adventure,Sci-Fi   \n",
       "4                    Adventure,Comedy,Sci-Fi   \n",
       "5                                    Western   \n",
       "6   Animation,Action,Adventure,Family,Sci-Fi   \n",
       "7                  Biography,Drama,Music,War   \n",
       "8                              Drama,Western   \n",
       "9                           Action,Adventure   \n",
       "10                       Adventure,Drama,War   \n",
       "\n",
       "                                 Country  \\\n",
       "ID                                         \n",
       "1           United States,United Kingdom   \n",
       "2                          United States   \n",
       "3                          United States   \n",
       "4                          United States   \n",
       "5               Italy,Spain,West Germany   \n",
       "6                          United States   \n",
       "7   United Kingdom,France,Poland,Germany   \n",
       "8                          United States   \n",
       "9                          United States   \n",
       "10                 Germany,United States   \n",
       "\n",
       "                                       Language  Runtime  \n",
       "ID                                                        \n",
       "1                       English,Japanese,French    148.0  \n",
       "2                                       English    136.0  \n",
       "3                                       English    149.0  \n",
       "4                                       English    116.0  \n",
       "5                                       Italian    161.0  \n",
       "6                               English,Spanish    117.0  \n",
       "7                        English,German,Russian    150.0  \n",
       "8                 English,German,French,Italian    165.0  \n",
       "9   English,German,Hebrew,Spanish,Arabic,Nepali    115.0  \n",
       "10                English,German,French,Italian    153.0  "
      ]
     },
     "execution_count": 8,
     "metadata": {},
     "output_type": "execute_result"
    }
   ],
   "source": [
    "df = pd.read_csv('C:/Users/eilon_bd/תוכן מקצועי/Python Projects/Movies_data/MoviesOnStreamingPlatforms_updated.csv',\n",
    "                 index_col='ID')\n",
    "movies=df.copy()\n",
    "movies.drop('Unnamed: 0', axis='columns', inplace=True)\n",
    "movies.head(10)"
   ]
  },
  {
   "cell_type": "code",
   "execution_count": 9,
   "metadata": {},
   "outputs": [
    {
     "data": {
      "text/plain": [
       "(16744, 15)"
      ]
     },
     "execution_count": 9,
     "metadata": {},
     "output_type": "execute_result"
    }
   ],
   "source": [
    "movies.shape"
   ]
  },
  {
   "cell_type": "code",
   "execution_count": 10,
   "metadata": {},
   "outputs": [
    {
     "name": "stdout",
     "output_type": "stream",
     "text": [
      "<class 'pandas.core.frame.DataFrame'>\n",
      "Int64Index: 16744 entries, 1 to 16744\n",
      "Data columns (total 15 columns):\n",
      " #   Column           Non-Null Count  Dtype  \n",
      "---  ------           --------------  -----  \n",
      " 0   Title            16744 non-null  object \n",
      " 1   Year             16744 non-null  int64  \n",
      " 2   Age              7354 non-null   object \n",
      " 3   IMDb             16173 non-null  float64\n",
      " 4   Rotten Tomatoes  5158 non-null   object \n",
      " 5   Netflix          16744 non-null  int64  \n",
      " 6   Hulu             16744 non-null  int64  \n",
      " 7   Prime Video      16744 non-null  int64  \n",
      " 8   Disney+          16744 non-null  int64  \n",
      " 9   Type             16744 non-null  int64  \n",
      " 10  Directors        16018 non-null  object \n",
      " 11  Genres           16469 non-null  object \n",
      " 12  Country          16309 non-null  object \n",
      " 13  Language         16145 non-null  object \n",
      " 14  Runtime          16152 non-null  float64\n",
      "dtypes: float64(2), int64(6), object(7)\n",
      "memory usage: 2.0+ MB\n"
     ]
    }
   ],
   "source": [
    "movies.info()"
   ]
  },
  {
   "cell_type": "code",
   "execution_count": 11,
   "metadata": {},
   "outputs": [
    {
     "data": {
      "text/plain": [
       "Title                  0\n",
       "Year                   0\n",
       "Age                 9390\n",
       "IMDb                 571\n",
       "Rotten Tomatoes    11586\n",
       "Netflix                0\n",
       "Hulu                   0\n",
       "Prime Video            0\n",
       "Disney+                0\n",
       "Type                   0\n",
       "Directors            726\n",
       "Genres               275\n",
       "Country              435\n",
       "Language             599\n",
       "Runtime              592\n",
       "dtype: int64"
      ]
     },
     "execution_count": 11,
     "metadata": {},
     "output_type": "execute_result"
    }
   ],
   "source": [
    "movies.isnull().sum()"
   ]
  },
  {
   "cell_type": "markdown",
   "metadata": {},
   "source": [
    "# Data Cleaning and dealing with nulls"
   ]
  },
  {
   "cell_type": "markdown",
   "metadata": {},
   "source": [
    "Feature 1 - Age"
   ]
  },
  {
   "cell_type": "code",
   "execution_count": 16,
   "metadata": {},
   "outputs": [
    {
     "data": {
      "text/plain": [
       "array(['13', '18', '7', 16.0, '0', '16'], dtype=object)"
      ]
     },
     "execution_count": 16,
     "metadata": {},
     "output_type": "execute_result"
    }
   ],
   "source": [
    "##Unique values in this catagory\n",
    "movies.Age.unique()"
   ]
  },
  {
   "cell_type": "code",
   "execution_count": 17,
   "metadata": {},
   "outputs": [
    {
     "data": {
      "text/plain": [
       "18    3474\n",
       "7     1462\n",
       "13    1255\n",
       "0      843\n",
       "16     320\n",
       "Name: Age, dtype: int64"
      ]
     },
     "execution_count": 17,
     "metadata": {},
     "output_type": "execute_result"
    }
   ],
   "source": [
    "movies['Age']=movies['Age'].str.replace('+','')\n",
    "movies['Age']=movies['Age'].str.replace('all','0')\n",
    "movies['Age'].value_counts()"
   ]
  },
  {
   "cell_type": "code",
   "execution_count": 18,
   "metadata": {},
   "outputs": [],
   "source": [
    "movies.Age=movies.Age.fillna(movies.Age.median())"
   ]
  },
  {
   "cell_type": "code",
   "execution_count": 19,
   "metadata": {},
   "outputs": [
    {
     "data": {
      "text/plain": [
       "0"
      ]
     },
     "execution_count": 19,
     "metadata": {},
     "output_type": "execute_result"
    }
   ],
   "source": [
    "##Casting to integers and make sure that we have no missing values left\n",
    "movies['Age'] = movies['Age'].astype(int)\n",
    "movies.Age.isnull().sum()"
   ]
  },
  {
   "cell_type": "markdown",
   "metadata": {},
   "source": [
    "Feature 2 - IMDb"
   ]
  },
  {
   "cell_type": "code",
   "execution_count": 20,
   "metadata": {},
   "outputs": [],
   "source": [
    "##Drop values with no ratings in IMDb\n",
    "movies.dropna(subset=['IMDb'],inplace=True)"
   ]
  },
  {
   "cell_type": "code",
   "execution_count": 23,
   "metadata": {},
   "outputs": [
    {
     "data": {
      "text/plain": [
       "0"
      ]
     },
     "execution_count": 23,
     "metadata": {},
     "output_type": "execute_result"
    }
   ],
   "source": [
    "movies.IMDb.isnull().sum()"
   ]
  },
  {
   "cell_type": "markdown",
   "metadata": {},
   "source": [
    "Feature 3 - Rotten Tomatoes"
   ]
  },
  {
   "cell_type": "code",
   "execution_count": 24,
   "metadata": {},
   "outputs": [
    {
     "data": {
      "text/plain": [
       "68.11970568231003"
      ]
     },
     "execution_count": 24,
     "metadata": {},
     "output_type": "execute_result"
    }
   ],
   "source": [
    "movies['Rotten Tomatoes'].isnull().sum() / movies.shape[0] *100"
   ]
  },
  {
   "cell_type": "code",
   "execution_count": 25,
   "metadata": {},
   "outputs": [],
   "source": [
    "##Drop the whole feature since 68% from the data is missing\n",
    "movies.drop('Rotten Tomatoes', axis='columns', inplace=True)"
   ]
  },
  {
   "cell_type": "markdown",
   "metadata": {},
   "source": [
    "The rest of the feature 4 - Directors, Genres, Country, Language and Runtime"
   ]
  },
  {
   "cell_type": "code",
   "execution_count": 26,
   "metadata": {},
   "outputs": [
    {
     "data": {
      "text/plain": [
       "Title            0\n",
       "Year             0\n",
       "Age              0\n",
       "IMDb             0\n",
       "Netflix          0\n",
       "Hulu             0\n",
       "Prime Video      0\n",
       "Disney+          0\n",
       "Type             0\n",
       "Directors      483\n",
       "Genres         101\n",
       "Country        218\n",
       "Language       372\n",
       "Runtime        354\n",
       "dtype: int64"
      ]
     },
     "execution_count": 26,
     "metadata": {},
     "output_type": "execute_result"
    }
   ],
   "source": [
    "movies.isnull().sum()"
   ]
  },
  {
   "cell_type": "code",
   "execution_count": 27,
   "metadata": {},
   "outputs": [
    {
     "data": {
      "text/plain": [
       "5.812156062573425"
      ]
     },
     "execution_count": 27,
     "metadata": {},
     "output_type": "execute_result"
    }
   ],
   "source": [
    "##Calculate the percentage of rows that have missing values\n",
    "sum([True for index,row in movies.iterrows() if any(row.isnull())])/movies.shape[0] * 100"
   ]
  },
  {
   "cell_type": "code",
   "execution_count": 28,
   "metadata": {},
   "outputs": [],
   "source": [
    "##Delete these rows because:\n",
    "##There is no exact way to complete the missing values\n",
    "##All the missing values from these 5 features are only 5% of the data\n",
    "movies.dropna(subset=['Directors','Genres','Country','Language','Runtime',],inplace=True)"
   ]
  },
  {
   "cell_type": "markdown",
   "metadata": {},
   "source": [
    "Final check for this section"
   ]
  },
  {
   "cell_type": "code",
   "execution_count": 29,
   "metadata": {},
   "outputs": [
    {
     "name": "stdout",
     "output_type": "stream",
     "text": [
      "<class 'pandas.core.frame.DataFrame'>\n",
      "Int64Index: 15233 entries, 1 to 16741\n",
      "Data columns (total 14 columns):\n",
      " #   Column       Non-Null Count  Dtype  \n",
      "---  ------       --------------  -----  \n",
      " 0   Title        15233 non-null  object \n",
      " 1   Year         15233 non-null  int64  \n",
      " 2   Age          15233 non-null  int32  \n",
      " 3   IMDb         15233 non-null  float64\n",
      " 4   Netflix      15233 non-null  int64  \n",
      " 5   Hulu         15233 non-null  int64  \n",
      " 6   Prime Video  15233 non-null  int64  \n",
      " 7   Disney+      15233 non-null  int64  \n",
      " 8   Type         15233 non-null  int64  \n",
      " 9   Directors    15233 non-null  object \n",
      " 10  Genres       15233 non-null  object \n",
      " 11  Country      15233 non-null  object \n",
      " 12  Language     15233 non-null  object \n",
      " 13  Runtime      15233 non-null  float64\n",
      "dtypes: float64(2), int32(1), int64(6), object(5)\n",
      "memory usage: 1.7+ MB\n"
     ]
    }
   ],
   "source": [
    "movies.info()"
   ]
  },
  {
   "cell_type": "code",
   "execution_count": 30,
   "metadata": {},
   "outputs": [
    {
     "data": {
      "text/plain": [
       "Title          0\n",
       "Year           0\n",
       "Age            0\n",
       "IMDb           0\n",
       "Netflix        0\n",
       "Hulu           0\n",
       "Prime Video    0\n",
       "Disney+        0\n",
       "Type           0\n",
       "Directors      0\n",
       "Genres         0\n",
       "Country        0\n",
       "Language       0\n",
       "Runtime        0\n",
       "dtype: int64"
      ]
     },
     "execution_count": 30,
     "metadata": {},
     "output_type": "execute_result"
    }
   ],
   "source": [
    "movies.isnull().sum()"
   ]
  },
  {
   "cell_type": "markdown",
   "metadata": {},
   "source": [
    "# Data Visualisation"
   ]
  },
  {
   "cell_type": "code",
   "execution_count": 32,
   "metadata": {},
   "outputs": [
    {
     "data": {
      "text/plain": [
       "<matplotlib.axes._subplots.AxesSubplot at 0x2092c89ef88>"
      ]
     },
     "execution_count": 32,
     "metadata": {},
     "output_type": "execute_result"
    },
    {
     "data": {
      "image/png": "[encoded data removed]",
      "text/plain": [
       "<Figure size 504x504 with 2 Axes>"
      ]
     },
     "metadata": {
      "needs_background": "light"
     },
     "output_type": "display_data"
    }
   ],
   "source": [
    "##Checking for correlation between some features and how they effect on the IMDb rank\n",
    "plt.figure(figsize = (7,7))\n",
    "sns.heatmap(movies[['Runtime','Age','Year','IMDb',]].corr(),cmap=\"BuPu\",annot=True)"
   ]
  },
  {
   "cell_type": "markdown",
   "metadata": {},
   "source": [
    "Building necessary functions"
   ]
  },
  {
   "cell_type": "code",
   "execution_count": 34,
   "metadata": {},
   "outputs": [],
   "source": [
    "##Function builded to split strings from different column each time to analize unique values\n",
    "##This function made to analyze features: Language, Country, Genres and Directors\n",
    "def split_for_unique(my_column):\n",
    "    my_column=[i.split(',') for i in my_column.values]\n",
    "    values=[]\n",
    "    unique_values=[]\n",
    "    for i in range(0,len(my_column)):\n",
    "        values=values+my_column[i]\n",
    "    for i in values:\n",
    "        if i not in unique_values:\n",
    "            unique_values.append(i)\n",
    "    return unique_values"
   ]
  },
  {
   "cell_type": "code",
   "execution_count": 35,
   "metadata": {},
   "outputs": [],
   "source": [
    "##Function builded to count values for columns with splited strings in the data\n",
    "def count_for_split_col(col_name,col_values):\n",
    "    my_list=pd.DataFrame()\n",
    "    my_list[col_name]=col_values\n",
    "    my_list['Number of movies']= 0\n",
    "    df1=my_list.to_numpy()\n",
    "    df2=movies[col_name].to_numpy()\n",
    "    counter=0\n",
    "    val_list=[]\n",
    "    for i in range(len(df1)):\n",
    "        counter=0\n",
    "        for j in range(len(df2)):\n",
    "            if df1[i,0] in df2[j]:\n",
    "                counter +=1\n",
    "        val_list.append(counter)\n",
    "    my_list['Number of movies']=val_list\n",
    "    return my_list"
   ]
  },
  {
   "cell_type": "code",
   "execution_count": 36,
   "metadata": {},
   "outputs": [],
   "source": [
    "##Function builded to get the avergae value for columns with splited strings in the data\n",
    "def avg_for_split_col(col_name,col_values,avg_by_col,desire_list_name):\n",
    "    my_list=pd.DataFrame()\n",
    "    my_list[col_name]=col_values\n",
    "    df1=my_list.to_numpy()\n",
    "    df2=movies[col_name].to_numpy()\n",
    "    df3=avg_by_col.to_numpy()\n",
    "    counter=0\n",
    "    mid_sum=0\n",
    "    val_list=[]\n",
    "    for i in range(len(df1)):\n",
    "        counter=0\n",
    "        mid_sum=0\n",
    "        for j in range(len(df2)):\n",
    "            if df1[i,0] in df2[j]:\n",
    "                counter +=1\n",
    "                mid_sum = mid_sum + df3[j]\n",
    "        val_list.append(mid_sum / counter)\n",
    "    my_list[desire_list_name]=val_list\n",
    "    return my_list"
   ]
  },
  {
   "cell_type": "markdown",
   "metadata": {},
   "source": [
    "Number of movies in each year"
   ]
  },
  {
   "cell_type": "code",
   "execution_count": 37,
   "metadata": {},
   "outputs": [
    {
     "data": {
      "text/plain": [
       "<matplotlib.axes._subplots.AxesSubplot at 0x2092d151dc8>"
      ]
     },
     "execution_count": 37,
     "metadata": {},
     "output_type": "execute_result"
    },
    {
     "data": {
      "image/png": "[encoded data removed]",
      "text/plain": [
       "<Figure size 2160x720 with 1 Axes>"
      ]
     },
     "metadata": {
      "needs_background": "light"
     },
     "output_type": "display_data"
    }
   ],
   "source": [
    "plt.figure(figsize = (30,10))\n",
    "movies.groupby(\"Year\").Title.count()[:df.Year.unique().shape[0]].plot.bar(x='Number of movies', y='Years',title='Movies per year')"
   ]
  },
  {
   "cell_type": "markdown",
   "metadata": {},
   "source": [
    "Platform analysis"
   ]
  },
  {
   "cell_type": "code",
   "execution_count": 38,
   "metadata": {},
   "outputs": [],
   "source": [
    "## Create an array with the unique platforms\n",
    "platforms=pd.DataFrame(movies[['Netflix','Hulu','Prime Video','Disney+']].sum(),columns=['Number of movies'])\n",
    "platforms=platforms.sort_values(by='Number of movies', ascending=False)\n",
    "\n",
    "## Create a data frame for analysis\n",
    "Platform_list=pd.DataFrame(columns=['Platform','Movies count','IMDb avg rank'])\n",
    "Platform_list['Platform']=platforms.index.to_numpy()\n",
    "\n",
    "## Insert the number of movies in each platform\n",
    "movies_count_list=[movies['Prime Video'].sum(),movies['Netflix'].sum(),movies['Hulu'].sum(),movies['Disney+'].sum()]\n",
    "Platform_list['Movies count']=movies_count_list\n",
    "\n",
    "## Calculate the avg IMDb rank for each platform and insert it to the data frame\n",
    "mean_df_Prime_video=movies.groupby('Prime Video')['IMDb'].mean().reset_index().iloc[1,1]\n",
    "mean_df_Netflix=movies.groupby('Netflix')['IMDb'].mean().reset_index().iloc[1,1]\n",
    "mean_df_Hulu=movies.groupby('Hulu')['IMDb'].mean().reset_index().iloc[1,1]\n",
    "mean_df_Disney=movies.groupby('Disney+')['IMDb'].mean().reset_index().iloc[1,1]\n",
    "\n",
    "IMDb_avg_list=[mean_df_Prime_video,mean_df_Netflix,mean_df_Hulu,mean_df_Disney]\n",
    "Platform_list['IMDb avg rank']=IMDb_avg_list\n",
    "Platform_list=Platform_list.round(2)\n",
    "\n",
    "Platform_list.set_index(platforms.index.to_numpy(),inplace=True)"
   ]
  },
  {
   "cell_type": "code",
   "execution_count": 39,
   "metadata": {
    "scrolled": true
   },
   "outputs": [
    {
     "data": {
      "image/png": "[encoded data removed]",
      "text/plain": [
       "<Figure size 504x360 with 2 Axes>"
      ]
     },
     "metadata": {
      "needs_background": "light"
     },
     "output_type": "display_data"
    }
   ],
   "source": [
    "fig = plt.figure(figsize = (7,5)) # Create matplotlib figure\n",
    "ax = fig.add_subplot(111) # Create matplotlib axes\n",
    "ax2 = ax.twinx() # Create another axes that shares the same x-axis as ax.\n",
    "width = 0.4\n",
    "Platform_list['Movies count'].plot(x='Platform',kind='bar', color='red', ax=ax, width=width, position=1)\n",
    "Platform_list['IMDb avg rank'].plot(kind='bar', color='blue', ax=ax2, width=width, position=0)\n",
    "ax.set_ylabel('Movies count')\n",
    "ax2.set_ylabel('IMDb avg rank')\n",
    "plt.show()"
   ]
  },
  {
   "cell_type": "markdown",
   "metadata": {},
   "source": [
    "Movies length analysis"
   ]
  },
  {
   "cell_type": "code",
   "execution_count": 40,
   "metadata": {
    "scrolled": true
   },
   "outputs": [
    {
     "data": {
      "text/plain": [
       "<matplotlib.axes._subplots.AxesSubplot at 0x2092daa1248>"
      ]
     },
     "execution_count": 40,
     "metadata": {},
     "output_type": "execute_result"
    },
    {
     "data": {
      "image/png": "[encoded data removed]",
      "text/plain": [
       "<Figure size 720x360 with 1 Axes>"
      ]
     },
     "metadata": {
      "needs_background": "light"
     },
     "output_type": "display_data"
    }
   ],
   "source": [
    "plt.figure(figsize = (10,5))\n",
    "sns.distplot(movies['Runtime'],label='Runtime',  kde=True,bins=50)"
   ]
  },
  {
   "cell_type": "markdown",
   "metadata": {},
   "source": [
    "Age related analysis"
   ]
  },
  {
   "cell_type": "code",
   "execution_count": 44,
   "metadata": {},
   "outputs": [
    {
     "data": {
      "text/plain": [
       "<matplotlib.axes._subplots.AxesSubplot at 0x2092defe588>"
      ]
     },
     "execution_count": 44,
     "metadata": {},
     "output_type": "execute_result"
    },
    {
     "data": {
      "image/png": "[encoded data removed]",
      "text/plain": [
       "<Figure size 504x504 with 1 Axes>"
      ]
     },
     "metadata": {},
     "output_type": "display_data"
    }
   ],
   "source": [
    "movies.groupby(['Age']).count().plot(kind='pie', y='Title',figsize = (7,7), title='Number om movies in each age group')"
   ]
  },
  {
   "cell_type": "code",
   "execution_count": 46,
   "metadata": {},
   "outputs": [
    {
     "data": {
      "image/png": "[encoded data removed]",
      "text/plain": [
       "<Figure size 1080x360 with 5 Axes>"
      ]
     },
     "metadata": {
      "needs_background": "light"
     },
     "output_type": "display_data"
    }
   ],
   "source": [
    "##Show IMDb rating distribution for each age group\n",
    "vioplot=sns.catplot(y=\"IMDb\", col=\"Age\",data=movies, saturation=.5,kind=\"violin\", ci=None, aspect=.6,margin_titles=True)"
   ]
  },
  {
   "cell_type": "markdown",
   "metadata": {},
   "source": [
    "Country related analysis"
   ]
  },
  {
   "cell_type": "code",
   "execution_count": 47,
   "metadata": {
    "scrolled": false
   },
   "outputs": [],
   "source": [
    "##Using the functions i have build to count the number of movies related to each country\n",
    "Country=split_for_unique(movies['Country'])\n",
    "Country_count=count_for_split_col('Country',Country)\n",
    "bar_df=Country_count.sort_values(by=['Number of movies'], ascending=False).head(10)\n",
    "bar_df=bar_df.sort_values(by=['Number of movies'], ascending=True)"
   ]
  },
  {
   "cell_type": "code",
   "execution_count": 48,
   "metadata": {
    "scrolled": false
   },
   "outputs": [
    {
     "data": {
      "text/plain": [
       "<matplotlib.axes._subplots.AxesSubplot at 0x2093073e148>"
      ]
     },
     "execution_count": 48,
     "metadata": {},
     "output_type": "execute_result"
    },
    {
     "data": {
      "image/png": "[encoded data removed]",
      "text/plain": [
       "<Figure size 1440x360 with 1 Axes>"
      ]
     },
     "metadata": {
      "needs_background": "light"
     },
     "output_type": "display_data"
    }
   ],
   "source": [
    "plt.figure(figsize = (20,5))\n",
    "sns.barplot(x=\"Country\", y=\"Number of movies\", data=bar_df, label=\"Total\", palette=sns.color_palette(\"Blues\",n_colors=10,desat=1))"
   ]
  },
  {
   "cell_type": "code",
   "execution_count": 49,
   "metadata": {},
   "outputs": [],
   "source": [
    "##Using the functions and the countries from the graph to calculate avg IMDb rank for each country\n",
    "numpy_arr=bar_df.to_numpy()\n",
    "numpy_arr=numpy_arr[:,0].T\n",
    "Rank_by_country=avg_for_split_col('Country',numpy_arr,movies['IMDb'],'IMDb Ranking')\n",
    "bar_df1=Rank_by_country.sort_values(by=['IMDb Ranking'], ascending=True).head(10)"
   ]
  },
  {
   "cell_type": "code",
   "execution_count": 50,
   "metadata": {
    "scrolled": true
   },
   "outputs": [
    {
     "data": {
      "text/plain": [
       "<matplotlib.axes._subplots.AxesSubplot at 0x209302870c8>"
      ]
     },
     "execution_count": 50,
     "metadata": {},
     "output_type": "execute_result"
    },
    {
     "data": {
      "image/png": "[encoded data removed]",
      "text/plain": [
       "<Figure size 1440x360 with 1 Axes>"
      ]
     },
     "metadata": {
      "needs_background": "light"
     },
     "output_type": "display_data"
    }
   ],
   "source": [
    "plt.figure(figsize = (20,5))\n",
    "sns.barplot(x=\"Country\", y=\"IMDb Ranking\", data=bar_df1, label=\"Total\", palette=sns.color_palette(\"Blues\",n_colors=10,desat=1))"
   ]
  },
  {
   "cell_type": "markdown",
   "metadata": {},
   "source": [
    "Directors related analysis"
   ]
  },
  {
   "cell_type": "code",
   "execution_count": 51,
   "metadata": {},
   "outputs": [],
   "source": [
    "##Using the functions i have build to count the number of movies related to each Director\n",
    "Directors=split_for_unique(movies['Directors'])\n",
    "Directors_count=count_for_split_col('Directors',Directors)\n",
    "bar_df2=Directors_count.sort_values(by=['Number of movies'], ascending=False).head(10)\n",
    "bar_df2=bar_df2.sort_values(by=['Number of movies'], ascending=True)"
   ]
  },
  {
   "cell_type": "code",
   "execution_count": 52,
   "metadata": {},
   "outputs": [
    {
     "data": {
      "text/plain": [
       "<matplotlib.axes._subplots.AxesSubplot at 0x20930206348>"
      ]
     },
     "execution_count": 52,
     "metadata": {},
     "output_type": "execute_result"
    },
    {
     "data": {
      "image/png": "[encoded data removed]",
      "text/plain": [
       "<Figure size 1440x360 with 1 Axes>"
      ]
     },
     "metadata": {
      "needs_background": "light"
     },
     "output_type": "display_data"
    }
   ],
   "source": [
    "plt.figure(figsize = (20,5))\n",
    "sns.barplot(x=\"Directors\", y=\"Number of movies\", data=bar_df2, label=\"Total\", palette=sns.color_palette(\"Reds\",n_colors=10,desat=1))"
   ]
  },
  {
   "cell_type": "code",
   "execution_count": 53,
   "metadata": {},
   "outputs": [],
   "source": [
    "##Using the functions and the directors from the graph to calculate avg IMDb rank for each director\n",
    "numpy_arr1=bar_df2.to_numpy()\n",
    "numpy_arr1=numpy_arr1[:,0].T\n",
    "Rank_by_director=avg_for_split_col('Directors',numpy_arr1,movies['IMDb'],'IMDb Ranking')\n",
    "bar_df3=Rank_by_director.sort_values(by=['IMDb Ranking'], ascending=True).head(10)"
   ]
  },
  {
   "cell_type": "code",
   "execution_count": 54,
   "metadata": {},
   "outputs": [
    {
     "data": {
      "text/plain": [
       "<matplotlib.axes._subplots.AxesSubplot at 0x209309e5c08>"
      ]
     },
     "execution_count": 54,
     "metadata": {},
     "output_type": "execute_result"
    },
    {
     "data": {
      "image/png": "[encoded data removed]",
      "text/plain": [
       "<Figure size 1440x360 with 1 Axes>"
      ]
     },
     "metadata": {
      "needs_background": "light"
     },
     "output_type": "display_data"
    }
   ],
   "source": [
    "plt.figure(figsize = (20,5))\n",
    "sns.barplot(x=\"Directors\", y=\"IMDb Ranking\", data=bar_df3, label=\"Total\", palette=sns.color_palette(\"Reds\",n_colors=10,desat=1))"
   ]
  },
  {
   "cell_type": "markdown",
   "metadata": {},
   "source": [
    "Genres"
   ]
  },
  {
   "cell_type": "code",
   "execution_count": 55,
   "metadata": {},
   "outputs": [],
   "source": [
    "##Using the functions i have build to count the number of movies related to each Genre\n",
    "Genres=split_for_unique(movies['Genres'])\n",
    "Genres_count=count_for_split_col('Genres',Genres)\n",
    "Genres_count=Genres_count.loc[Genres_count['Genres']!='Thriller']\n",
    "bar_df4=Genres_count.sort_values(by=['Number of movies'], ascending=False).head(10)\n",
    "bar_df4=bar_df4.sort_values(by=['Number of movies'], ascending=True)"
   ]
  },
  {
   "cell_type": "code",
   "execution_count": 56,
   "metadata": {},
   "outputs": [
    {
     "data": {
      "text/plain": [
       "<matplotlib.axes._subplots.AxesSubplot at 0x209309e1048>"
      ]
     },
     "execution_count": 56,
     "metadata": {},
     "output_type": "execute_result"
    },
    {
     "data": {
      "image/png": "[encoded data removed]",
      "text/plain": [
       "<Figure size 1440x360 with 1 Axes>"
      ]
     },
     "metadata": {
      "needs_background": "light"
     },
     "output_type": "display_data"
    }
   ],
   "source": [
    "plt.figure(figsize = (20,5))\n",
    "sns.barplot(x=\"Genres\", y=\"Number of movies\", data=bar_df4, label=\"Total\", palette=sns.color_palette(\"BuGn\",n_colors=10,desat=1))"
   ]
  },
  {
   "cell_type": "code",
   "execution_count": 57,
   "metadata": {},
   "outputs": [],
   "source": [
    "##Using the functions and the geners from the graph to calculate avg IMDb rank for each genre\n",
    "numpy_arr2=bar_df4.to_numpy()\n",
    "numpy_arr2=numpy_arr2[:,0].T\n",
    "Rank_by_genre=avg_for_split_col('Genres',numpy_arr2,movies['IMDb'],'IMDb Ranking')\n",
    "bar_df5=Rank_by_genre.sort_values(by=['IMDb Ranking'], ascending=True).head(10)"
   ]
  },
  {
   "cell_type": "code",
   "execution_count": 58,
   "metadata": {},
   "outputs": [
    {
     "data": {
      "text/plain": [
       "<matplotlib.axes._subplots.AxesSubplot at 0x20930a09e08>"
      ]
     },
     "execution_count": 58,
     "metadata": {},
     "output_type": "execute_result"
    },
    {
     "data": {
      "image/png": "[encoded data removed]",
      "text/plain": [
       "<Figure size 1440x360 with 1 Axes>"
      ]
     },
     "metadata": {
      "needs_background": "light"
     },
     "output_type": "display_data"
    }
   ],
   "source": [
    "plt.figure(figsize = (20,5))\n",
    "sns.barplot(x=\"Genres\", y=\"IMDb Ranking\", data=bar_df5, label=\"Total\", palette=sns.color_palette(\"BuGn\",n_colors=10,desat=1))"
   ]
  },
  {
   "cell_type": "markdown",
   "metadata": {},
   "source": [
    "Language"
   ]
  },
  {
   "cell_type": "code",
   "execution_count": 59,
   "metadata": {},
   "outputs": [],
   "source": [
    "##Using the functions i have build to count the number of movies related to each Language\n",
    "Languages=split_for_unique(movies['Language'])\n",
    "Languages_count=count_for_split_col('Language',Languages)\n",
    "bar_df6=Languages_count.sort_values(by=['Number of movies'], ascending=False).head(10)\n",
    "bar_df6=bar_df6.sort_values(by=['Number of movies'], ascending=True)"
   ]
  },
  {
   "cell_type": "code",
   "execution_count": 60,
   "metadata": {},
   "outputs": [
    {
     "data": {
      "text/plain": [
       "<matplotlib.axes._subplots.AxesSubplot at 0x20931269f08>"
      ]
     },
     "execution_count": 60,
     "metadata": {},
     "output_type": "execute_result"
    },
    {
     "data": {
      "image/png": "[encoded data removed]",
      "text/plain": [
       "<Figure size 1440x360 with 1 Axes>"
      ]
     },
     "metadata": {
      "needs_background": "light"
     },
     "output_type": "display_data"
    }
   ],
   "source": [
    "plt.figure(figsize = (20,5))\n",
    "sns.barplot(x=\"Language\", y=\"Number of movies\", data=bar_df6, label=\"Total\", palette=sns.color_palette(\"BuPu\",n_colors=10,desat=1))"
   ]
  },
  {
   "cell_type": "code",
   "execution_count": 61,
   "metadata": {},
   "outputs": [],
   "source": [
    "##Using the functions and the Languages from the graph to calculate avg IMDb rank for each Language\n",
    "numpy_arr3=bar_df6.to_numpy()\n",
    "numpy_arr3=numpy_arr3[:,0].T\n",
    "Rank_by_Language=avg_for_split_col('Language',numpy_arr3,movies['IMDb'],'IMDb Ranking')\n",
    "bar_df7=Rank_by_Language.sort_values(by=['IMDb Ranking'], ascending=True).head(10)"
   ]
  },
  {
   "cell_type": "code",
   "execution_count": 62,
   "metadata": {
    "scrolled": true
   },
   "outputs": [
    {
     "data": {
      "text/plain": [
       "<matplotlib.axes._subplots.AxesSubplot at 0x20930aee248>"
      ]
     },
     "execution_count": 62,
     "metadata": {},
     "output_type": "execute_result"
    },
    {
     "data": {
      "image/png": "[encoded data removed]",
      "text/plain": [
       "<Figure size 1440x360 with 1 Axes>"
      ]
     },
     "metadata": {
      "needs_background": "light"
     },
     "output_type": "display_data"
    }
   ],
   "source": [
    "plt.figure(figsize = (20,5))\n",
    "sns.barplot(x=\"Language\", y=\"IMDb Ranking\", data=bar_df7, label=\"Total\", palette=sns.color_palette(\"BuPu\",n_colors=10,desat=1))"
   ]
  },
  {
   "cell_type": "code",
   "execution_count": null,
   "metadata": {},
   "outputs": [],
   "source": []
  }
 ],
 "metadata": {
  "kernelspec": {
   "display_name": "Python 3",
   "language": "python",
   "name": "python3"
  },
  "language_info": {
   "codemirror_mode": {
    "name": "ipython",
    "version": 3
   },
   "file_extension": ".py",
   "mimetype": "text/x-python",
   "name": "python",
   "nbconvert_exporter": "python",
   "pygments_lexer": "ipython3",
   "version": "3.7.6"
  }
 },
 "nbformat": 4,
 "nbformat_minor": 4
}
